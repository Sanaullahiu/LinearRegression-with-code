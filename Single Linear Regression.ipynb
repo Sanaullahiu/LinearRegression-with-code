{
 "cells": [
  {
   "cell_type": "markdown",
   "id": "090afdca",
   "metadata": {},
   "source": [
    "# import needed libraries "
   ]
  },
  {
   "cell_type": "code",
   "execution_count": 42,
   "id": "0dd6c428",
   "metadata": {},
   "outputs": [],
   "source": [
    "import numpy as np\n",
    "import pandas as pd\n",
    "import matplotlib.pyplot as plt"
   ]
  },
  {
   "cell_type": "markdown",
   "id": "34d2201f",
   "metadata": {},
   "source": [
    "# Import csv File"
   ]
  },
  {
   "cell_type": "code",
   "execution_count": 43,
   "id": "0225054a",
   "metadata": {},
   "outputs": [
    {
     "data": {
      "text/html": [
       "<div>\n",
       "<style scoped>\n",
       "    .dataframe tbody tr th:only-of-type {\n",
       "        vertical-align: middle;\n",
       "    }\n",
       "\n",
       "    .dataframe tbody tr th {\n",
       "        vertical-align: top;\n",
       "    }\n",
       "\n",
       "    .dataframe thead th {\n",
       "        text-align: right;\n",
       "    }\n",
       "</style>\n",
       "<table border=\"1\" class=\"dataframe\">\n",
       "  <thead>\n",
       "    <tr style=\"text-align: right;\">\n",
       "      <th></th>\n",
       "      <th>area</th>\n",
       "      <th>rent</th>\n",
       "    </tr>\n",
       "  </thead>\n",
       "  <tbody>\n",
       "    <tr>\n",
       "      <th>0</th>\n",
       "      <td>2000</td>\n",
       "      <td>31500</td>\n",
       "    </tr>\n",
       "    <tr>\n",
       "      <th>1</th>\n",
       "      <td>2100</td>\n",
       "      <td>35000</td>\n",
       "    </tr>\n",
       "    <tr>\n",
       "      <th>2</th>\n",
       "      <td>2500</td>\n",
       "      <td>41050</td>\n",
       "    </tr>\n",
       "    <tr>\n",
       "      <th>3</th>\n",
       "      <td>2250</td>\n",
       "      <td>36100</td>\n",
       "    </tr>\n",
       "    <tr>\n",
       "      <th>4</th>\n",
       "      <td>3000</td>\n",
       "      <td>52100</td>\n",
       "    </tr>\n",
       "  </tbody>\n",
       "</table>\n",
       "</div>"
      ],
      "text/plain": [
       "   area   rent\n",
       "0  2000  31500\n",
       "1  2100  35000\n",
       "2  2500  41050\n",
       "3  2250  36100\n",
       "4  3000  52100"
      ]
     },
     "execution_count": 43,
     "metadata": {},
     "output_type": "execute_result"
    }
   ],
   "source": [
    "df=pd.read_csv('Rent Data.csv')\n",
    "df.head(5)"
   ]
  },
  {
   "cell_type": "markdown",
   "id": "075ea086",
   "metadata": {},
   "source": [
    "# Define Data"
   ]
  },
  {
   "cell_type": "code",
   "execution_count": 53,
   "id": "3ac40896",
   "metadata": {},
   "outputs": [
    {
     "data": {
      "text/html": [
       "<div>\n",
       "<style scoped>\n",
       "    .dataframe tbody tr th:only-of-type {\n",
       "        vertical-align: middle;\n",
       "    }\n",
       "\n",
       "    .dataframe tbody tr th {\n",
       "        vertical-align: top;\n",
       "    }\n",
       "\n",
       "    .dataframe thead th {\n",
       "        text-align: right;\n",
       "    }\n",
       "</style>\n",
       "<table border=\"1\" class=\"dataframe\">\n",
       "  <thead>\n",
       "    <tr style=\"text-align: right;\">\n",
       "      <th></th>\n",
       "      <th>area</th>\n",
       "    </tr>\n",
       "  </thead>\n",
       "  <tbody>\n",
       "    <tr>\n",
       "      <th>0</th>\n",
       "      <td>2000</td>\n",
       "    </tr>\n",
       "    <tr>\n",
       "      <th>1</th>\n",
       "      <td>2100</td>\n",
       "    </tr>\n",
       "    <tr>\n",
       "      <th>2</th>\n",
       "      <td>2500</td>\n",
       "    </tr>\n",
       "    <tr>\n",
       "      <th>3</th>\n",
       "      <td>2250</td>\n",
       "    </tr>\n",
       "    <tr>\n",
       "      <th>4</th>\n",
       "      <td>3000</td>\n",
       "    </tr>\n",
       "  </tbody>\n",
       "</table>\n",
       "</div>"
      ],
      "text/plain": [
       "   area\n",
       "0  2000\n",
       "1  2100\n",
       "2  2500\n",
       "3  2250\n",
       "4  3000"
      ]
     },
     "execution_count": 53,
     "metadata": {},
     "output_type": "execute_result"
    }
   ],
   "source": [
    "x=df[['area']]\n",
    "x.head()"
   ]
  },
  {
   "cell_type": "code",
   "execution_count": 55,
   "id": "c7359a6f",
   "metadata": {},
   "outputs": [
    {
     "data": {
      "text/html": [
       "<div>\n",
       "<style scoped>\n",
       "    .dataframe tbody tr th:only-of-type {\n",
       "        vertical-align: middle;\n",
       "    }\n",
       "\n",
       "    .dataframe tbody tr th {\n",
       "        vertical-align: top;\n",
       "    }\n",
       "\n",
       "    .dataframe thead th {\n",
       "        text-align: right;\n",
       "    }\n",
       "</style>\n",
       "<table border=\"1\" class=\"dataframe\">\n",
       "  <thead>\n",
       "    <tr style=\"text-align: right;\">\n",
       "      <th></th>\n",
       "      <th>rent</th>\n",
       "    </tr>\n",
       "  </thead>\n",
       "  <tbody>\n",
       "    <tr>\n",
       "      <th>0</th>\n",
       "      <td>31500</td>\n",
       "    </tr>\n",
       "    <tr>\n",
       "      <th>1</th>\n",
       "      <td>35000</td>\n",
       "    </tr>\n",
       "    <tr>\n",
       "      <th>2</th>\n",
       "      <td>41050</td>\n",
       "    </tr>\n",
       "    <tr>\n",
       "      <th>3</th>\n",
       "      <td>36100</td>\n",
       "    </tr>\n",
       "    <tr>\n",
       "      <th>4</th>\n",
       "      <td>52100</td>\n",
       "    </tr>\n",
       "  </tbody>\n",
       "</table>\n",
       "</div>"
      ],
      "text/plain": [
       "    rent\n",
       "0  31500\n",
       "1  35000\n",
       "2  41050\n",
       "3  36100\n",
       "4  52100"
      ]
     },
     "execution_count": 55,
     "metadata": {},
     "output_type": "execute_result"
    }
   ],
   "source": [
    "y=df[['rent']]\n",
    "y.head()"
   ]
  },
  {
   "cell_type": "markdown",
   "id": "48f84473",
   "metadata": {},
   "source": [
    "# Create Scatter Plot with labeling"
   ]
  },
  {
   "cell_type": "code",
   "execution_count": 91,
   "id": "f49c726b",
   "metadata": {},
   "outputs": [
    {
     "data": {
      "text/plain": [
       "Text(0.5, 1.0, 'The cost of rent for Area')"
      ]
     },
     "execution_count": 91,
     "metadata": {},
     "output_type": "execute_result"
    },
    {
     "data": {
      "image/png": "[encoded data removed]",
      "text/plain": [
       "<Figure size 720x576 with 1 Axes>"
      ]
     },
     "metadata": {
      "needs_background": "light"
     },
     "output_type": "display_data"
    }
   ],
   "source": [
    "plt.figure(figsize=(10,8))\n",
    "plt.scatter(x,y, color='blue',s=100,marker='*')\n",
    "\n",
    "font1={'family':'arial','size':'14','color':'black'} #not mandatory,but it providing nice view of tittle and label\n",
    "font2={'family':'arial','size':'18','color':'green'}\n",
    "\n",
    "plt.xlabel(\"Area in Square Feet\",fontdict=font1)\n",
    "plt.ylabel(\"Rent Value in BD\",fontdict=font1)\n",
    "plt.title(\"The cost of rent for Area\",fontdict=font2)\n",
    "\n"
   ]
  },
  {
   "cell_type": "markdown",
   "id": "d5b9d7c4",
   "metadata": {},
   "source": [
    "# Seperate Data with Spliting"
   ]
  },
  {
   "cell_type": "code",
   "execution_count": 57,
   "id": "9e32c1bf",
   "metadata": {},
   "outputs": [],
   "source": [
    "from sklearn.model_selection import train_test_split\n",
    "xtrain, xtest, ytrain, ytest = train_test_split(x, y, test_size = 0.25, random_state =1)"
   ]
  },
  {
   "cell_type": "code",
   "execution_count": 90,
   "id": "89239d0d",
   "metadata": {},
   "outputs": [
    {
     "data": {
      "text/plain": [
       "(    area\n",
       " 23  1200\n",
       " 22  3500\n",
       " 4   3000\n",
       " 2   2500\n",
       " 24  2800,\n",
       " '  ',\n",
       "      rent\n",
       " 23  20000\n",
       " 22  70000\n",
       " 4   52100\n",
       " 2   41050\n",
       " 24  50000,\n",
       " '  ',\n",
       "     area\n",
       " 14  2250\n",
       " 21  2100\n",
       " 18  1800\n",
       " 20  2110\n",
       " 25  3100,\n",
       " '   ',\n",
       "      rent\n",
       " 14  34100\n",
       " 21  33500\n",
       " 18  25000\n",
       " 20  31500\n",
       " 25  53000)"
      ]
     },
     "execution_count": 90,
     "metadata": {},
     "output_type": "execute_result"
    }
   ],
   "source": [
    "xtrain.head(),\"  \", ytrain.head(),\"  \", xtest.head(),\"   \", ytest.head()"
   ]
  },
  {
   "cell_type": "markdown",
   "id": "f4633b14",
   "metadata": {},
   "source": [
    "# Model-Selection"
   ]
  },
  {
   "cell_type": "code",
   "execution_count": 85,
   "id": "c703b255",
   "metadata": {},
   "outputs": [
    {
     "data": {
      "text/plain": [
       "LinearRegression()"
      ]
     },
     "execution_count": 85,
     "metadata": {},
     "output_type": "execute_result"
    }
   ],
   "source": [
    "from sklearn.linear_model import LinearRegression\n",
    "regressor = LinearRegression()\n",
    "regressor.fit(xtrain, ytrain) # fit data with LR model"
   ]
  },
  {
   "cell_type": "code",
   "execution_count": 83,
   "id": "02bd14e8",
   "metadata": {},
   "outputs": [
    {
     "name": "stdout",
     "output_type": "stream",
     "text": [
      "The coeficient value is: [[21.53803292]] ; The intercept Value is:  [-11615.22997112]\n"
     ]
    }
   ],
   "source": [
    "print(\"The coeficient value is:\", regressor.coef_, \";\", \"The intercept Value is: \" ,   regressor.intercept_)"
   ]
  },
  {
   "cell_type": "markdown",
   "id": "f6d8f1f0",
   "metadata": {},
   "source": [
    "# Observe Dataset with fit-line under LR "
   ]
  },
  {
   "cell_type": "code",
   "execution_count": 86,
   "id": "485508ad",
   "metadata": {},
   "outputs": [
    {
     "data": {
      "text/plain": [
       "[<matplotlib.lines.Line2D at 0x1f028a1abb0>]"
      ]
     },
     "execution_count": 86,
     "metadata": {},
     "output_type": "execute_result"
    },
    {
     "data": {
      "image/png": "[encoded data removed]",
      "text/plain": [
       "<Figure size 720x576 with 1 Axes>"
      ]
     },
     "metadata": {
      "needs_background": "light"
     },
     "output_type": "display_data"
    }
   ],
   "source": [
    "plt.figure(figsize=(10,8))\n",
    "plt.scatter(df.area, df.rent, color='b', marker='*',s=100)\n",
    "\n",
    "\n",
    "font1={'family':'arial','color':'Black','size':'15'}\n",
    "font2={'family':'serif','color':'Black','size':'20'}\n",
    "\n",
    "plt.xlabel(\"rent\", fontdict=font1)\n",
    "plt.ylabel(\"rent\",fontdict=font1)\n",
    "plt.title('Rent Analysis',fontdict=font2)\n",
    "\n",
    "plt.plot(df.area,regressor.predict(df[['area']]))"
   ]
  },
  {
   "cell_type": "code",
   "execution_count": null,
   "id": "778d89c5",
   "metadata": {},
   "outputs": [],
   "source": []
  }
 ],
 "metadata": {
  "kernelspec": {
   "display_name": "Python 3",
   "language": "python",
   "name": "python3"
  },
  "language_info": {
   "codemirror_mode": {
    "name": "ipython",
    "version": 3
   },
   "file_extension": ".py",
   "mimetype": "text/x-python",
   "name": "python",
   "nbconvert_exporter": "python",
   "pygments_lexer": "ipython3",
   "version": "3.8.8"
  }
 },
 "nbformat": 4,
 "nbformat_minor": 5
}
